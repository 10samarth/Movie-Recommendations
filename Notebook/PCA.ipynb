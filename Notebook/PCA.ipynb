{
 "cells": [
  {
   "cell_type": "code",
   "execution_count": 1,
   "id": "4672eb20",
   "metadata": {},
   "outputs": [],
   "source": [
    "#importing libraries\n",
    "import numpy as np \n",
    "import pandas as pd \n",
    "import matplotlib.pyplot as plt\n",
    "import seaborn as sns\n",
    "import nltk\n",
    "# nltk.download('stopwords')\n",
    "from sklearn.model_selection import train_test_split\n",
    "from sklearn.metrics import classification_report, confusion_matrix\n",
    "\n",
    "import warnings \n",
    "warnings.filterwarnings('ignore')"
   ]
  },
  {
   "cell_type": "markdown",
   "id": "0bf7927e",
   "metadata": {},
   "source": [
    "## Load the movies and ratings data "
   ]
  },
  {
   "cell_type": "code",
   "execution_count": 2,
   "id": "b1deadfe",
   "metadata": {},
   "outputs": [
    {
     "data": {
      "text/html": [
       "<div>\n",
       "<style scoped>\n",
       "    .dataframe tbody tr th:only-of-type {\n",
       "        vertical-align: middle;\n",
       "    }\n",
       "\n",
       "    .dataframe tbody tr th {\n",
       "        vertical-align: top;\n",
       "    }\n",
       "\n",
       "    .dataframe thead th {\n",
       "        text-align: right;\n",
       "    }\n",
       "</style>\n",
       "<table border=\"1\" class=\"dataframe\">\n",
       "  <thead>\n",
       "    <tr style=\"text-align: right;\">\n",
       "      <th></th>\n",
       "      <th>UserID</th>\n",
       "      <th>MovieID</th>\n",
       "      <th>Rating</th>\n",
       "      <th>Timestamp</th>\n",
       "    </tr>\n",
       "  </thead>\n",
       "  <tbody>\n",
       "    <tr>\n",
       "      <th>0</th>\n",
       "      <td>1</td>\n",
       "      <td>1193</td>\n",
       "      <td>5</td>\n",
       "      <td>978300760</td>\n",
       "    </tr>\n",
       "    <tr>\n",
       "      <th>1</th>\n",
       "      <td>1</td>\n",
       "      <td>661</td>\n",
       "      <td>3</td>\n",
       "      <td>978302109</td>\n",
       "    </tr>\n",
       "    <tr>\n",
       "      <th>2</th>\n",
       "      <td>1</td>\n",
       "      <td>914</td>\n",
       "      <td>3</td>\n",
       "      <td>978301968</td>\n",
       "    </tr>\n",
       "    <tr>\n",
       "      <th>3</th>\n",
       "      <td>1</td>\n",
       "      <td>3408</td>\n",
       "      <td>4</td>\n",
       "      <td>978300275</td>\n",
       "    </tr>\n",
       "    <tr>\n",
       "      <th>4</th>\n",
       "      <td>1</td>\n",
       "      <td>2355</td>\n",
       "      <td>5</td>\n",
       "      <td>978824291</td>\n",
       "    </tr>\n",
       "  </tbody>\n",
       "</table>\n",
       "</div>"
      ],
      "text/plain": [
       "   UserID  MovieID  Rating  Timestamp\n",
       "0       1     1193       5  978300760\n",
       "1       1      661       3  978302109\n",
       "2       1      914       3  978301968\n",
       "3       1     3408       4  978300275\n",
       "4       1     2355       5  978824291"
      ]
     },
     "execution_count": 2,
     "metadata": {},
     "output_type": "execute_result"
    }
   ],
   "source": [
    "ratings =  pd.read_csv('ml-1m/ratings.dat',sep='::',header=None,names=[\"UserID\", \"MovieID\", \"Rating\", \"Timestamp\"], encoding=\"ISO-8859-1\")\n",
    "ratings.head()"
   ]
  },
  {
   "cell_type": "code",
   "execution_count": 3,
   "id": "37b872cd",
   "metadata": {},
   "outputs": [
    {
     "data": {
      "text/html": [
       "<div>\n",
       "<style scoped>\n",
       "    .dataframe tbody tr th:only-of-type {\n",
       "        vertical-align: middle;\n",
       "    }\n",
       "\n",
       "    .dataframe tbody tr th {\n",
       "        vertical-align: top;\n",
       "    }\n",
       "\n",
       "    .dataframe thead th {\n",
       "        text-align: right;\n",
       "    }\n",
       "</style>\n",
       "<table border=\"1\" class=\"dataframe\">\n",
       "  <thead>\n",
       "    <tr style=\"text-align: right;\">\n",
       "      <th></th>\n",
       "      <th>MovieID</th>\n",
       "      <th>Title</th>\n",
       "      <th>Genres</th>\n",
       "    </tr>\n",
       "  </thead>\n",
       "  <tbody>\n",
       "    <tr>\n",
       "      <th>0</th>\n",
       "      <td>1</td>\n",
       "      <td>Toy Story (1995)</td>\n",
       "      <td>Animation|Children's|Comedy</td>\n",
       "    </tr>\n",
       "    <tr>\n",
       "      <th>1</th>\n",
       "      <td>2</td>\n",
       "      <td>Jumanji (1995)</td>\n",
       "      <td>Adventure|Children's|Fantasy</td>\n",
       "    </tr>\n",
       "    <tr>\n",
       "      <th>2</th>\n",
       "      <td>3</td>\n",
       "      <td>Grumpier Old Men (1995)</td>\n",
       "      <td>Comedy|Romance</td>\n",
       "    </tr>\n",
       "    <tr>\n",
       "      <th>3</th>\n",
       "      <td>4</td>\n",
       "      <td>Waiting to Exhale (1995)</td>\n",
       "      <td>Comedy|Drama</td>\n",
       "    </tr>\n",
       "    <tr>\n",
       "      <th>4</th>\n",
       "      <td>5</td>\n",
       "      <td>Father of the Bride Part II (1995)</td>\n",
       "      <td>Comedy</td>\n",
       "    </tr>\n",
       "  </tbody>\n",
       "</table>\n",
       "</div>"
      ],
      "text/plain": [
       "   MovieID                               Title                        Genres\n",
       "0        1                    Toy Story (1995)   Animation|Children's|Comedy\n",
       "1        2                      Jumanji (1995)  Adventure|Children's|Fantasy\n",
       "2        3             Grumpier Old Men (1995)                Comedy|Romance\n",
       "3        4            Waiting to Exhale (1995)                  Comedy|Drama\n",
       "4        5  Father of the Bride Part II (1995)                        Comedy"
      ]
     },
     "execution_count": 3,
     "metadata": {},
     "output_type": "execute_result"
    }
   ],
   "source": [
    "movies = pd.read_csv('ml-1m/movies.dat',sep='::',header=None,names=[\"MovieID\", \"Title\", \"Genres\"], encoding=\"ISO-8859-1\")\n",
    "movies.head()"
   ]
  },
  {
   "cell_type": "code",
   "execution_count": 4,
   "id": "502882d0",
   "metadata": {},
   "outputs": [
    {
     "data": {
      "text/html": [
       "<div>\n",
       "<style scoped>\n",
       "    .dataframe tbody tr th:only-of-type {\n",
       "        vertical-align: middle;\n",
       "    }\n",
       "\n",
       "    .dataframe tbody tr th {\n",
       "        vertical-align: top;\n",
       "    }\n",
       "\n",
       "    .dataframe thead th {\n",
       "        text-align: right;\n",
       "    }\n",
       "</style>\n",
       "<table border=\"1\" class=\"dataframe\">\n",
       "  <thead>\n",
       "    <tr style=\"text-align: right;\">\n",
       "      <th></th>\n",
       "      <th>UserID</th>\n",
       "      <th>Gender</th>\n",
       "      <th>Age</th>\n",
       "      <th>Occupation</th>\n",
       "      <th>Zip-code</th>\n",
       "    </tr>\n",
       "  </thead>\n",
       "  <tbody>\n",
       "    <tr>\n",
       "      <th>0</th>\n",
       "      <td>1</td>\n",
       "      <td>F</td>\n",
       "      <td>1</td>\n",
       "      <td>10</td>\n",
       "      <td>48067</td>\n",
       "    </tr>\n",
       "    <tr>\n",
       "      <th>1</th>\n",
       "      <td>2</td>\n",
       "      <td>M</td>\n",
       "      <td>56</td>\n",
       "      <td>16</td>\n",
       "      <td>70072</td>\n",
       "    </tr>\n",
       "    <tr>\n",
       "      <th>2</th>\n",
       "      <td>3</td>\n",
       "      <td>M</td>\n",
       "      <td>25</td>\n",
       "      <td>15</td>\n",
       "      <td>55117</td>\n",
       "    </tr>\n",
       "    <tr>\n",
       "      <th>3</th>\n",
       "      <td>4</td>\n",
       "      <td>M</td>\n",
       "      <td>45</td>\n",
       "      <td>7</td>\n",
       "      <td>02460</td>\n",
       "    </tr>\n",
       "    <tr>\n",
       "      <th>4</th>\n",
       "      <td>5</td>\n",
       "      <td>M</td>\n",
       "      <td>25</td>\n",
       "      <td>20</td>\n",
       "      <td>55455</td>\n",
       "    </tr>\n",
       "  </tbody>\n",
       "</table>\n",
       "</div>"
      ],
      "text/plain": [
       "   UserID Gender  Age  Occupation Zip-code\n",
       "0       1      F    1          10    48067\n",
       "1       2      M   56          16    70072\n",
       "2       3      M   25          15    55117\n",
       "3       4      M   45           7    02460\n",
       "4       5      M   25          20    55455"
      ]
     },
     "execution_count": 4,
     "metadata": {},
     "output_type": "execute_result"
    }
   ],
   "source": [
    "users = pd.read_csv('ml-1m/users.dat',sep='::',header=None,names=[\"UserID\", \"Gender\", \"Age\", \"Occupation\", \"Zip-code\"], encoding=\"ISO-8859-1\")\n",
    "users.head()"
   ]
  },
  {
   "cell_type": "markdown",
   "id": "0be83a02",
   "metadata": {},
   "source": [
    "## Singular Value Decomposition"
   ]
  },
  {
   "cell_type": "markdown",
   "id": "2947f95a",
   "metadata": {},
   "source": [
    "Matrix decomposition, also known as matrix factorization, is the process of defining a given matrix using the elements that make it up.\n",
    "The Singular-Value Decomposition, or SVD, is a matrix decomposition method that simplifies specific future matrix operations by reducing a matrix to its constituent elements.\n",
    "\n",
    "A factorization of a matrix into three matrices is called Singular Value Decomposition (SVD).\n",
    "A rectangular gene expression data matrix is used in singular value decomposition defined as A, where A is n x p matrix. The genes are represented by the n rows, and the p columns represent the experimental circumstances.\n",
    "Unlike eigendecomposition, which requires a square matrix to decompose, SVD allows you to decompose a rectangle matrix with multiple rows and columns."
   ]
  },
  {
   "cell_type": "markdown",
   "id": "c037071a",
   "metadata": {},
   "source": [
    "## Principal Component Analysis "
   ]
  },
  {
   "cell_type": "markdown",
   "id": "71eadf00",
   "metadata": {},
   "source": [
    "Principal Component Analysis, or PCA, is a dimensionality-reduction approach for reducing the dimensionality of large data sets by transforming a large collection of variables into a smaller one that retains the majority of the information in the large set. PCA simplifies data, lowers noise, and uncovers hidden variables that aren't quantified. PCA assists us in identifying a smaller number of features that will compress our original dataset, capturing up to a percentage of its variance depending on the number of new features we choose. This transformation is designed to have the most significant substantial variance in the first principal component. That is, it accounts for as much of the variability in the data as possible, and each succeeding part, in turn, has the highest possible variance possible"
   ]
  },
  {
   "cell_type": "markdown",
   "id": "58d6621a",
   "metadata": {},
   "source": [
    "##  m x u matrix with movies as row and users as column and Normalize the matrix."
   ]
  },
  {
   "cell_type": "code",
   "execution_count": 5,
   "id": "4ff60bac",
   "metadata": {},
   "outputs": [],
   "source": [
    "ratings_mat = np.ndarray(shape=(np.max(ratings.MovieID.values), np.max(ratings.UserID.values)),\n",
    "                         dtype=np.uint8)\n",
    "\n",
    "ratings_mat[ratings.MovieID.values-1, ratings.UserID.values-1] = ratings.Rating.values"
   ]
  },
  {
   "cell_type": "code",
   "execution_count": 7,
   "id": "b5bd2596",
   "metadata": {},
   "outputs": [],
   "source": [
    "normalised_mat = ratings_mat - np.asarray([(np.mean(ratings_mat, 1))]).T"
   ]
  },
  {
   "cell_type": "markdown",
   "id": "7221cfb5",
   "metadata": {},
   "source": [
    "## covariance matrix for the entire dataset"
   ]
  },
  {
   "cell_type": "code",
   "execution_count": 11,
   "id": "e2b4dc10",
   "metadata": {},
   "outputs": [
    {
     "name": "stdout",
     "output_type": "stream",
     "text": [
      "[[ 4.12962236e+00  5.75673984e-01  2.58562508e-01 ...  3.68631310e-02\n",
      "  -1.89651770e-03  1.01335714e-01]\n",
      " [ 5.75673984e-01  1.16329503e+00  1.58818473e-01 ...  2.35825183e-02\n",
      "   1.72580150e-04  4.73469365e-02]\n",
      " [ 2.58562508e-01  1.58818473e-01  7.53929543e-01 ...  1.23723740e-02\n",
      "  -3.18604447e-03  2.89347507e-02]\n",
      " ...\n",
      " [ 3.68631310e-02  2.35825183e-02  1.23723740e-02 ...  1.28726701e-01\n",
      "   2.31599491e-02  7.54817223e-02]\n",
      " [-1.89651770e-03  1.72580150e-04 -3.18604447e-03 ...  2.31599491e-02\n",
      "   1.07279944e-01  5.63097013e-02]\n",
      " [ 1.01335714e-01  4.73469365e-02  2.89347507e-02 ...  7.54817223e-02\n",
      "   5.63097013e-02  9.15346668e-01]]\n"
     ]
    }
   ],
   "source": [
    "covMatrix = np.cov(normalised_mat,bias=True)\n",
    "print (covMatrix)"
   ]
  },
  {
   "cell_type": "markdown",
   "id": "7ef27bf2",
   "metadata": {},
   "source": [
    "## eigen vectors from the covariance matrix"
   ]
  },
  {
   "cell_type": "code",
   "execution_count": 13,
   "id": "7269d0b6",
   "metadata": {},
   "outputs": [],
   "source": [
    "evals, evecs = np.linalg.eig(covMatrix)"
   ]
  },
  {
   "cell_type": "code",
   "execution_count": 16,
   "id": "5bffd8f0",
   "metadata": {},
   "outputs": [],
   "source": [
    "from numpy import linalg as LA\n",
    "w, v = LA.eig(covMatrix)"
   ]
  },
  {
   "cell_type": "markdown",
   "id": "09db2e78",
   "metadata": {},
   "source": [
    "## Using cosine similarity find 10 closest movies using the 50 components from PCA"
   ]
  },
  {
   "cell_type": "code",
   "execution_count": 25,
   "id": "76316ad6",
   "metadata": {},
   "outputs": [
    {
     "name": "stdout",
     "output_type": "stream",
     "text": [
      "Recommendations for Toy Story (1995): \n",
      "\n",
      "Toy Story (1995)\n",
      "Toy Story 2 (1999)\n",
      "Babe (1995)\n",
      "Bug's Life, A (1998)\n",
      "Pleasantville (1998)\n",
      "Babe: Pig in the City (1998)\n",
      "Aladdin (1992)\n",
      "Stuart Little (1999)\n",
      "Secret Garden, The (1993)\n",
      "Tarzan (1999)\n"
     ]
    }
   ],
   "source": [
    "k = 50\n",
    "movie_id = 1 # Grab an id from movies.dat\n",
    "top_n = 10\n",
    "\n",
    "sliced = evecs[:, :k] # representative data\n",
    "top_indexes = top_cosine_similarity(sliced, movie_id, top_n)\n",
    "print_similar_movies(movies, movie_id, top_indexes)"
   ]
  }
 ],
 "metadata": {
  "kernelspec": {
   "display_name": "Python 3",
   "language": "python",
   "name": "python3"
  },
  "language_info": {
   "codemirror_mode": {
    "name": "ipython",
    "version": 3
   },
   "file_extension": ".py",
   "mimetype": "text/x-python",
   "name": "python",
   "nbconvert_exporter": "python",
   "pygments_lexer": "ipython3",
   "version": "3.9.7"
  }
 },
 "nbformat": 4,
 "nbformat_minor": 5
}
